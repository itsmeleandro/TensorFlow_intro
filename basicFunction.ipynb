{
 "cells": [
  {
   "cell_type": "code",
   "execution_count": 5,
   "source": [
    "import tensorflow as tf \r\n",
    "import numpy as np\r\n",
    "import keras\r\n",
    "import numpy as np"
   ],
   "outputs": [],
   "metadata": {}
  },
  {
   "cell_type": "code",
   "execution_count": null,
   "source": [
    "#in the current model i define a neural network with one layer\r\n",
    "model= keras.Sequential([keras.layers.Dense(units=1, input_shape=[1])])\r\n",
    "model.compile(optimizer='sgd',loss='mean_squared_error')\r\n",
    "\r\n",
    "#the next step is the represent the known data\r\n",
    "x=np.array([-1.0, 0.0, 1.0, 2.0, 3.0, 4.0], dtype=float)\r\n",
    "y=np.array([-3.0, -1.0, 1.0, 3.0, 5.0, 7.0], dtype=float)\r\n",
    "\r\n",
    "model.fit(x,y, epochs=500)  #the fit method asks the model to figure out how to fit the x's values to the y's values\r\n",
    "            #the epochs indicates the loop number is 500 or it's going to go trough the loop 500 times\r\n",
    "print(model.predict([10.0]))"
   ],
   "outputs": [],
   "metadata": {}
  },
  {
   "cell_type": "code",
   "execution_count": 6,
   "source": [
    "#The Fashion MNIST data is available directly in the tf.keras datasets API. \r\n",
    "# You load it like this:\r\n",
    "mnist = tf.keras.datasets.fashion_mnist"
   ],
   "outputs": [],
   "metadata": {}
  },
  {
   "cell_type": "code",
   "execution_count": 7,
   "source": [
    "#Calling load_data on this object will give you two sets of two lists\r\n",
    "#these will be the training and testing values for the graphics that contain the clothing items and their labels.\r\n",
    "(training_images, training_labels), (test_images, test_labels) = mnist.load_data()\r\n"
   ],
   "outputs": [
    {
     "output_type": "stream",
     "name": "stdout",
     "text": [
      "Downloading data from https://storage.googleapis.com/tensorflow/tf-keras-datasets/train-labels-idx1-ubyte.gz\n",
      "32768/29515 [=================================] - 0s 1us/step\n",
      "40960/29515 [=========================================] - 0s 1us/step\n",
      "Downloading data from https://storage.googleapis.com/tensorflow/tf-keras-datasets/train-images-idx3-ubyte.gz\n",
      "26427392/26421880 [==============================] - 3s 0us/step\n",
      "26435584/26421880 [==============================] - 3s 0us/step\n",
      "Downloading data from https://storage.googleapis.com/tensorflow/tf-keras-datasets/t10k-labels-idx1-ubyte.gz\n",
      "16384/5148 [===============================================================================================] - 0s 0s/step\n",
      "Downloading data from https://storage.googleapis.com/tensorflow/tf-keras-datasets/t10k-images-idx3-ubyte.gz\n",
      "4423680/4422102 [==============================] - 0s 0us/step\n",
      "4431872/4422102 [==============================] - 0s 0us/step\n"
     ]
    }
   ],
   "metadata": {}
  },
  {
   "cell_type": "markdown",
   "source": [
    "What does these values look like? Let's print a training image, and a training label to see...Experiment with different indices in the array. For example, also take a look at index 42...that's a a different boot than the one at index 0"
   ],
   "metadata": {}
  },
  {
   "cell_type": "code",
   "execution_count": 11,
   "source": [
    "np.set_printoptions(linewidth=200)\r\n",
    "import matplotlib.pyplot as plt\r\n",
    "plt.imshow(training_images[0])\r\n",
    "print(training_labels[0])\r\n",
    "print(training_images[0])"
   ],
   "outputs": [
    {
     "output_type": "stream",
     "name": "stdout",
     "text": [
      "9\n",
      "[[  0   0   0   0   0   0   0   0   0   0   0   0   0   0   0   0   0   0   0   0   0   0   0   0   0   0   0   0]\n",
      " [  0   0   0   0   0   0   0   0   0   0   0   0   0   0   0   0   0   0   0   0   0   0   0   0   0   0   0   0]\n",
      " [  0   0   0   0   0   0   0   0   0   0   0   0   0   0   0   0   0   0   0   0   0   0   0   0   0   0   0   0]\n",
      " [  0   0   0   0   0   0   0   0   0   0   0   0   1   0   0  13  73   0   0   1   4   0   0   0   0   1   1   0]\n",
      " [  0   0   0   0   0   0   0   0   0   0   0   0   3   0  36 136 127  62  54   0   0   0   1   3   4   0   0   3]\n",
      " [  0   0   0   0   0   0   0   0   0   0   0   0   6   0 102 204 176 134 144 123  23   0   0   0   0  12  10   0]\n",
      " [  0   0   0   0   0   0   0   0   0   0   0   0   0   0 155 236 207 178 107 156 161 109  64  23  77 130  72  15]\n",
      " [  0   0   0   0   0   0   0   0   0   0   0   1   0  69 207 223 218 216 216 163 127 121 122 146 141  88 172  66]\n",
      " [  0   0   0   0   0   0   0   0   0   1   1   1   0 200 232 232 233 229 223 223 215 213 164 127 123 196 229   0]\n",
      " [  0   0   0   0   0   0   0   0   0   0   0   0   0 183 225 216 223 228 235 227 224 222 224 221 223 245 173   0]\n",
      " [  0   0   0   0   0   0   0   0   0   0   0   0   0 193 228 218 213 198 180 212 210 211 213 223 220 243 202   0]\n",
      " [  0   0   0   0   0   0   0   0   0   1   3   0  12 219 220 212 218 192 169 227 208 218 224 212 226 197 209  52]\n",
      " [  0   0   0   0   0   0   0   0   0   0   6   0  99 244 222 220 218 203 198 221 215 213 222 220 245 119 167  56]\n",
      " [  0   0   0   0   0   0   0   0   0   4   0   0  55 236 228 230 228 240 232 213 218 223 234 217 217 209  92   0]\n",
      " [  0   0   1   4   6   7   2   0   0   0   0   0 237 226 217 223 222 219 222 221 216 223 229 215 218 255  77   0]\n",
      " [  0   3   0   0   0   0   0   0   0  62 145 204 228 207 213 221 218 208 211 218 224 223 219 215 224 244 159   0]\n",
      " [  0   0   0   0  18  44  82 107 189 228 220 222 217 226 200 205 211 230 224 234 176 188 250 248 233 238 215   0]\n",
      " [  0  57 187 208 224 221 224 208 204 214 208 209 200 159 245 193 206 223 255 255 221 234 221 211 220 232 246   0]\n",
      " [  3 202 228 224 221 211 211 214 205 205 205 220 240  80 150 255 229 221 188 154 191 210 204 209 222 228 225   0]\n",
      " [ 98 233 198 210 222 229 229 234 249 220 194 215 217 241  65  73 106 117 168 219 221 215 217 223 223 224 229  29]\n",
      " [ 75 204 212 204 193 205 211 225 216 185 197 206 198 213 240 195 227 245 239 223 218 212 209 222 220 221 230  67]\n",
      " [ 48 203 183 194 213 197 185 190 194 192 202 214 219 221 220 236 225 216 199 206 186 181 177 172 181 205 206 115]\n",
      " [  0 122 219 193 179 171 183 196 204 210 213 207 211 210 200 196 194 191 195 191 198 192 176 156 167 177 210  92]\n",
      " [  0   0  74 189 212 191 175 172 175 181 185 188 189 188 193 198 204 209 210 210 211 188 188 194 192 216 170   0]\n",
      " [  2   0   0   0  66 200 222 237 239 242 246 243 244 221 220 193 191 179 182 182 181 176 166 168  99  58   0   0]\n",
      " [  0   0   0   0   0   0   0  40  61  44  72  41  35   0   0   0   0   0   0   0   0   0   0   0   0   0   0   0]\n",
      " [  0   0   0   0   0   0   0   0   0   0   0   0   0   0   0   0   0   0   0   0   0   0   0   0   0   0   0   0]\n",
      " [  0   0   0   0   0   0   0   0   0   0   0   0   0   0   0   0   0   0   0   0   0   0   0   0   0   0   0   0]]\n"
     ]
    },
    {
     "output_type": "display_data",
     "data": {
      "image/png": "[encoded data removed]",
      "text/plain": [
       "<Figure size 432x288 with 1 Axes>"
      ]
     },
     "metadata": {
      "needs_background": "light"
     }
    }
   ],
   "metadata": {}
  },
  {
   "cell_type": "markdown",
   "source": [
    "\r\n",
    "You'll notice that all of the values in the number are between 0 and 255. If we are training a neural network, for various reasons it's easier if we treat all values as between 0 and 1, a process called 'normalizing'...and fortunately in Python it's easy to normalize a list like this without looping. You do it like this:"
   ],
   "metadata": {}
  },
  {
   "cell_type": "code",
   "execution_count": 14,
   "source": [
    "training_images  = training_images / 255.0\r\n",
    "test_images = test_images / 255.0\r\n"
   ],
   "outputs": [],
   "metadata": {}
  },
  {
   "cell_type": "markdown",
   "source": [
    "\r\n",
    "Now you might be wondering why there are 2 sets...training and testing -- remember we spoke about this in the intro? The idea is to have 1 set of data for training, and then another set of data...that the model hasn't yet seen...to see how good it would be at classifying values. After all, when you're done, you're going to want to try it out with data that it hadn't previously seen!\r\n",
    "\r\n",
    "Let's now design the model. There's quite a few new concepts here, but don't worry, you'll get the hang of them."
   ],
   "metadata": {}
  },
  {
   "cell_type": "code",
   "execution_count": 15,
   "source": [
    "model = tf.keras.models.Sequential([tf.keras.layers.Flatten(), \r\n",
    "                                    tf.keras.layers.Dense(128, activation=tf.nn.relu), \r\n",
    "                                    tf.keras.layers.Dense(10, activation=tf.nn.softmax)])"
   ],
   "outputs": [],
   "metadata": {}
  },
  {
   "cell_type": "markdown",
   "source": [
    "\r\n",
    "Sequential: That defines a SEQUENCE of layers in the neural network\r\n",
    "\r\n",
    "Flatten: Remember earlier where our images were a square, when you printed them out? Flatten just takes that square and turns it into a 1 dimensional set.\r\n",
    "\r\n",
    "Dense: Adds a layer of neurons\r\n",
    "\r\n",
    "Each layer of neurons need an activation function to tell them what to do. There's lots of options, but just use these for now.\r\n",
    "\r\n",
    "Relu effectively means \"If X>0 return X, else return 0\" -- so what it does it it only passes values 0 or greater to the next layer in the network.\r\n",
    "\r\n",
    "Softmax takes a set of values, and effectively picks the biggest one, so, for example, if the output of the last layer looks like [0.1, 0.1, 0.05, 0.1, 9.5, 0.1, 0.05, 0.05, 0.05], it saves you from fishing through it looking for the biggest value, and turns it into [0,0,0,0,1,0,0,0,0] -- The goal is to save a lot of coding!\r\n",
    "\r\n",
    "The next thing to do, now the model is defined, is to actually build it. You do this by compiling it with an optimizer and loss function as before -- and then you train it by calling model.fit asking it to fit your training data to your training labels -- i.e. have it figure out the relationship between the training data and its actual labels, so in future if you have data that looks like the training data, then it can make a prediction for what that data would look like."
   ],
   "metadata": {}
  },
  {
   "cell_type": "code",
   "execution_count": 16,
   "source": [
    "model.compile(optimizer = tf.optimizers.Adam(),\r\n",
    "              loss = 'sparse_categorical_crossentropy',\r\n",
    "              metrics=['accuracy'])\r\n",
    "\r\n",
    "model.fit(training_images, training_labels, epochs=5)"
   ],
   "outputs": [
    {
     "output_type": "stream",
     "name": "stdout",
     "text": [
      "Epoch 1/5\n",
      "1875/1875 [==============================] - 2s 971us/step - loss: 2.3026 - accuracy: 0.1013\n",
      "Epoch 2/5\n",
      "1875/1875 [==============================] - 2s 887us/step - loss: 2.2998 - accuracy: 0.1292\n",
      "Epoch 3/5\n",
      "1875/1875 [==============================] - 2s 893us/step - loss: 2.2871 - accuracy: 0.1821\n",
      "Epoch 4/5\n",
      "1875/1875 [==============================] - 2s 910us/step - loss: 2.2587 - accuracy: 0.2040\n",
      "Epoch 5/5\n",
      "1875/1875 [==============================] - 2s 890us/step - loss: 2.2171 - accuracy: 0.2106\n"
     ]
    },
    {
     "output_type": "execute_result",
     "data": {
      "text/plain": [
       "<keras.callbacks.History at 0x26eecf78610>"
      ]
     },
     "metadata": {},
     "execution_count": 16
    }
   ],
   "metadata": {}
  },
  {
   "cell_type": "markdown",
   "source": [
    "Once it's done training -- you should see an accuracy value at the end of the final epoch. It might look something like 0.9098. This tells you that your neural network is about 91% accurate in classifying the training data. I.E., it figured out a pattern match between the image and the labels that worked 91% of the time. Not great, but not bad considering it was only trained for 5 epochs and done quite quickly.\r\n",
    "\r\n",
    "But how would it work with unseen data? That's why we have the test images. We can call model.evaluate, and pass in the two sets, and it will report back the loss for each. Let's give it a try:"
   ],
   "metadata": {}
  },
  {
   "cell_type": "code",
   "execution_count": 18,
   "source": [
    "model.evaluate(test_images, test_labels)"
   ],
   "outputs": [
    {
     "output_type": "stream",
     "name": "stdout",
     "text": [
      "313/313 [==============================] - 0s 784us/step - loss: 2.1929 - accuracy: 0.2146\n"
     ]
    },
    {
     "output_type": "execute_result",
     "data": {
      "text/plain": [
       "[2.192905902862549, 0.21459999680519104]"
      ]
     },
     "metadata": {},
     "execution_count": 18
    }
   ],
   "metadata": {}
  },
  {
   "cell_type": "markdown",
   "source": [
    "Exercise 1:\r\n",
    "For this first exercise run the below code: It creates a set of classifications for each of the test images, and then prints the first entry in the classifications. The output, after you run it is a list of numbers. Why do you think this is, and what do those numbers represent?"
   ],
   "metadata": {}
  },
  {
   "cell_type": "code",
   "execution_count": 26,
   "source": [
    "classifications = model.predict(test_images)\r\n",
    "\r\n",
    "print(classifications[0]) #It's the probability that this item is each of the 10 classes\r\n"
   ],
   "outputs": [
    {
     "output_type": "stream",
     "name": "stdout",
     "text": [
      "[0.07977279 0.07845758 0.09286723 0.07631046 0.08479673 0.12565373 0.08847238 0.12807204 0.12024477 0.12535228]\n"
     ]
    }
   ],
   "metadata": {}
  },
  {
   "cell_type": "code",
   "execution_count": 20,
   "source": [
    "print(test_labels[0])"
   ],
   "outputs": [
    {
     "output_type": "stream",
     "name": "stdout",
     "text": [
      "9\n"
     ]
    }
   ],
   "metadata": {}
  },
  {
   "cell_type": "code",
   "execution_count": 32,
   "source": [
    "mnist = tf.keras.datasets.mnist\r\n",
    "\r\n",
    "(training_images, training_labels) ,  (test_images, test_labels) = mnist.load_data()\r\n",
    "\r\n",
    "training_images = training_images/255.0\r\n",
    "test_images = test_images/255.0\r\n",
    "\r\n",
    "model = tf.keras.models.Sequential([tf.keras.layers.Flatten(),\r\n",
    "                                    tf.keras.layers.Dense(100, activation=tf.nn.relu), \r\n",
    "                                    tf.keras.layers.Dense(256, activation=tf.nn.relu), \r\n",
    "                                    tf.keras.layers.Dense(100, activation=tf.nn.relu), \r\n",
    "                                    tf.keras.layers.Dense(10, activation=tf.nn.softmax)])\r\n",
    "\r\n",
    "model.compile(optimizer = 'adam',\r\n",
    "              loss = 'sparse_categorical_crossentropy')\r\n",
    "\r\n",
    "model.fit(training_images, training_labels, epochs=5)\r\n",
    "\r\n",
    "model.evaluate(test_images, test_labels)\r\n",
    "\r\n",
    "classifications = model.predict(test_images)\r\n",
    "\r\n",
    "print(classifications[0])\r\n",
    "print(test_labels[0])"
   ],
   "outputs": [
    {
     "output_type": "stream",
     "name": "stdout",
     "text": [
      "Epoch 1/5\n",
      "1875/1875 [==============================] - 2s 1ms/step - loss: 0.2349\n",
      "Epoch 2/5\n",
      "1875/1875 [==============================] - 2s 1ms/step - loss: 0.1032\n",
      "Epoch 3/5\n",
      "1875/1875 [==============================] - 2s 1ms/step - loss: 0.0736\n",
      "Epoch 4/5\n",
      "1875/1875 [==============================] - 2s 1ms/step - loss: 0.0582\n",
      "Epoch 5/5\n",
      "1875/1875 [==============================] - 2s 1ms/step - loss: 0.0496\n",
      "313/313 [==============================] - 0s 742us/step - loss: 0.0795\n",
      "[4.30960996e-11 3.01656691e-08 3.61012212e-07 1.78741288e-07 9.95974747e-10 2.58554900e-10 5.84904087e-13 9.99999404e-01 1.86358129e-09 1.01342316e-07]\n",
      "7\n"
     ]
    }
   ],
   "metadata": {}
  },
  {
   "cell_type": "markdown",
   "source": [
    "Try 15 epochs -- you'll probably get a model with a much better loss than the one with 5\r\n",
    "Try 30 epochs -- you might see the loss value stops decreasing, and sometimes increases.\r\n",
    "This is a side effect of something called 'overfitting' which you can learn about later and it's something you need to keep an eye out for when training neural networks. There's no point in wasting your time training if you aren't improving your loss, right! :)"
   ],
   "metadata": {}
  },
  {
   "cell_type": "code",
   "execution_count": 35,
   "source": [
    "mnist = tf.keras.datasets.mnist\r\n",
    "\r\n",
    "(training_images, training_labels) ,  (test_images, test_labels) = mnist.load_data()\r\n",
    "\r\n",
    "training_images = training_images/255.0\r\n",
    "test_images = test_images/255.0\r\n",
    "\r\n",
    "model = tf.keras.models.Sequential([tf.keras.layers.Flatten(),\r\n",
    "                                    tf.keras.layers.Dense(128, activation=tf.nn.relu),\r\n",
    "                                    tf.keras.layers.Dense(10, activation=tf.nn.softmax)])\r\n",
    "\r\n",
    "model.compile(optimizer = 'adam',\r\n",
    "              loss = 'sparse_categorical_crossentropy')\r\n",
    "\r\n",
    "model.fit(training_images, training_labels, epochs=30) # Experiment with the number of epochs\r\n",
    "\r\n",
    "model.evaluate(test_images, test_labels)            ##1ro dio 0,071\r\n",
    "                                                    ##2do dio 0,0937\r\n",
    "                                                    ##2do dio 0,1372\r\n",
    "classifications = model.predict(test_images)\r\n",
    "\r\n",
    "print(classifications[34])\r\n",
    "print(test_labels[34])"
   ],
   "outputs": [
    {
     "output_type": "stream",
     "name": "stdout",
     "text": [
      "Epoch 1/30\n",
      "1875/1875 [==============================] - 2s 809us/step - loss: 0.2584\n",
      "Epoch 2/30\n",
      "1875/1875 [==============================] - 1s 797us/step - loss: 0.1118\n",
      "Epoch 3/30\n",
      "1875/1875 [==============================] - 1s 794us/step - loss: 0.0767\n",
      "Epoch 4/30\n",
      "1875/1875 [==============================] - 1s 791us/step - loss: 0.0578\n",
      "Epoch 5/30\n",
      "1875/1875 [==============================] - 2s 867us/step - loss: 0.0446\n",
      "Epoch 6/30\n",
      "1875/1875 [==============================] - 2s 822us/step - loss: 0.0351\n",
      "Epoch 7/30\n",
      "1875/1875 [==============================] - 1s 794us/step - loss: 0.0278\n",
      "Epoch 8/30\n",
      "1875/1875 [==============================] - 2s 895us/step - loss: 0.0223\n",
      "Epoch 9/30\n",
      "1875/1875 [==============================] - 2s 811us/step - loss: 0.0184\n",
      "Epoch 10/30\n",
      "1875/1875 [==============================] - 2s 801us/step - loss: 0.0157\n",
      "Epoch 11/30\n",
      "1875/1875 [==============================] - 2s 958us/step - loss: 0.0134\n",
      "Epoch 12/30\n",
      "1875/1875 [==============================] - 2s 886us/step - loss: 0.0102\n",
      "Epoch 13/30\n",
      "1875/1875 [==============================] - 1s 790us/step - loss: 0.0105\n",
      "Epoch 14/30\n",
      "1875/1875 [==============================] - 1s 798us/step - loss: 0.0091\n",
      "Epoch 15/30\n",
      "1875/1875 [==============================] - 2s 885us/step - loss: 0.0084\n",
      "Epoch 16/30\n",
      "1875/1875 [==============================] - 2s 809us/step - loss: 0.0067\n",
      "Epoch 17/30\n",
      "1875/1875 [==============================] - 1s 780us/step - loss: 0.0075\n",
      "Epoch 18/30\n",
      "1875/1875 [==============================] - 1s 782us/step - loss: 0.0045\n",
      "Epoch 19/30\n",
      "1875/1875 [==============================] - 2s 831us/step - loss: 0.0057\n",
      "Epoch 20/30\n",
      "1875/1875 [==============================] - 2s 840us/step - loss: 0.0058\n",
      "Epoch 21/30\n",
      "1875/1875 [==============================] - 2s 952us/step - loss: 0.0047\n",
      "Epoch 22/30\n",
      "1875/1875 [==============================] - 1s 697us/step - loss: 0.0040\n",
      "Epoch 23/30\n",
      "1875/1875 [==============================] - 2s 894us/step - loss: 0.0042\n",
      "Epoch 24/30\n",
      "1875/1875 [==============================] - 2s 1ms/step - loss: 0.0041\n",
      "Epoch 25/30\n",
      "1875/1875 [==============================] - 2s 940us/step - loss: 0.0052\n",
      "Epoch 26/30\n",
      "1875/1875 [==============================] - 2s 885us/step - loss: 0.0021\n",
      "Epoch 27/30\n",
      "1875/1875 [==============================] - 2s 919us/step - loss: 0.0051\n",
      "Epoch 28/30\n",
      "1875/1875 [==============================] - 1s 771us/step - loss: 0.0023\n",
      "Epoch 29/30\n",
      "1875/1875 [==============================] - 2s 803us/step - loss: 0.0047\n",
      "Epoch 30/30\n",
      "1875/1875 [==============================] - 1s 775us/step - loss: 0.0025\n",
      "313/313 [==============================] - 0s 585us/step - loss: 0.1372\n",
      "[3.0073084e-19 1.1125244e-16 4.4764482e-13 3.3316012e-15 6.1587696e-26 1.4107841e-32 7.9427758e-28 1.0000000e+00 7.5649058e-18 2.2788877e-17]\n",
      "7\n"
     ]
    }
   ],
   "metadata": {}
  },
  {
   "cell_type": "markdown",
   "source": [
    "Exercise 7:\r\n",
    "Before you trained, you normalized the data, going from values that were 0-255 to values that were 0-1. What would be the impact of removing that? Here's the complete code to give it a try. Why do you think you get different results?"
   ],
   "metadata": {}
  },
  {
   "cell_type": "code",
   "execution_count": 36,
   "source": [
    "mnist = tf.keras.datasets.mnist\r\n",
    "(training_images, training_labels), (test_images, test_labels) = mnist.load_data()\r\n",
    "#training_images=training_images/255.0 # Experiment with removing this line\r\n",
    "#test_images=test_images/255.0 # Experiment with removing this line\r\n",
    "model = tf.keras.models.Sequential([\r\n",
    "  tf.keras.layers.Flatten(),\r\n",
    "  tf.keras.layers.Dense(512, activation=tf.nn.relu),\r\n",
    "  tf.keras.layers.Dense(10, activation=tf.nn.softmax)\r\n",
    "])\r\n",
    "model.compile(optimizer='adam', loss='sparse_categorical_crossentropy')\r\n",
    "model.fit(training_images, training_labels, epochs=5)\r\n",
    "model.evaluate(test_images, test_labels)\r\n",
    "classifications = model.predict(test_images)\r\n",
    "print(classifications[0])\r\n",
    "print(test_labels[0])"
   ],
   "outputs": [
    {
     "output_type": "stream",
     "name": "stdout",
     "text": [
      "Epoch 1/5\n",
      "1875/1875 [==============================] - 5s 2ms/step - loss: 2.7300\n",
      "Epoch 2/5\n",
      "1875/1875 [==============================] - 4s 2ms/step - loss: 0.3533\n",
      "Epoch 3/5\n",
      "1875/1875 [==============================] - 4s 2ms/step - loss: 0.3128\n",
      "Epoch 4/5\n",
      "1875/1875 [==============================] - 5s 2ms/step - loss: 0.2848\n",
      "Epoch 5/5\n",
      "1875/1875 [==============================] - 4s 2ms/step - loss: 0.2419\n",
      "313/313 [==============================] - 0s 1ms/step - loss: 0.3168\n",
      "[3.2017224e-37 4.5471318e-21 8.4405024e-14 7.8506767e-16 0.0000000e+00 6.9540994e-22 0.0000000e+00 1.0000000e+00 8.6987161e-34 5.9485919e-28]\n",
      "7\n"
     ]
    }
   ],
   "metadata": {}
  },
  {
   "cell_type": "code",
   "execution_count": 38,
   "source": [
    "class myCallback(tf.keras.callbacks.Callback):\r\n",
    "  def on_epoch_end(self, epoch, logs={}):\r\n",
    "    if(logs.get('accuracy') >= 0.9): # Experiment with changing this value\r\n",
    "      print(\"\\nReached 60% accuracy so cancelling training!\")\r\n",
    "      self.model.stop_training = True\r\n",
    "\r\n",
    "callbacks = myCallback()\r\n",
    "mnist = tf.keras.datasets.fashion_mnist\r\n",
    "(training_images, training_labels), (test_images, test_labels) = mnist.load_data()\r\n",
    "training_images=training_images/255.0\r\n",
    "test_images=test_images/255.0\r\n",
    "model = tf.keras.models.Sequential([\r\n",
    "  tf.keras.layers.Flatten(),\r\n",
    "  tf.keras.layers.Dense(512, activation=tf.nn.relu),\r\n",
    "  tf.keras.layers.Dense(10, activation=tf.nn.softmax)\r\n",
    "])\r\n",
    "model.compile(optimizer='adam', loss='sparse_categorical_crossentropy', metrics=['accuracy'])\r\n",
    "\r\n",
    "model.fit(training_images, training_labels, epochs=5, callbacks=[callbacks])"
   ],
   "outputs": [
    {
     "output_type": "stream",
     "name": "stdout",
     "text": [
      "Epoch 1/5\n",
      "1875/1875 [==============================] - 5s 3ms/step - loss: 0.4754 - accuracy: 0.8287\n",
      "Epoch 2/5\n",
      "1875/1875 [==============================] - 5s 2ms/step - loss: 0.3590 - accuracy: 0.8682\n",
      "Epoch 3/5\n",
      "1875/1875 [==============================] - 4s 2ms/step - loss: 0.3233 - accuracy: 0.8811\n",
      "Epoch 4/5\n",
      "1875/1875 [==============================] - 5s 2ms/step - loss: 0.2980 - accuracy: 0.8892\n",
      "Epoch 5/5\n",
      "1875/1875 [==============================] - 4s 2ms/step - loss: 0.2778 - accuracy: 0.8985\n"
     ]
    },
    {
     "output_type": "execute_result",
     "data": {
      "text/plain": [
       "<keras.callbacks.History at 0x26e81b91310>"
      ]
     },
     "metadata": {},
     "execution_count": 38
    }
   ],
   "metadata": {}
  }
 ],
 "metadata": {
  "orig_nbformat": 4,
  "language_info": {
   "name": "python",
   "version": "3.9.6",
   "mimetype": "text/x-python",
   "codemirror_mode": {
    "name": "ipython",
    "version": 3
   },
   "pygments_lexer": "ipython3",
   "nbconvert_exporter": "python",
   "file_extension": ".py"
  },
  "kernelspec": {
   "name": "python3",
   "display_name": "Python 3.9.6 64-bit"
  },
  "interpreter": {
   "hash": "31e81b3cdbcba4c9e71b17fae73d63fcddb06c6e6bdc0d7f53ebd1ace8b8c2c6"
  }
 },
 "nbformat": 4,
 "nbformat_minor": 2
}