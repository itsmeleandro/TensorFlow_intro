{
 "cells": [
  {
   "cell_type": "markdown",
   "source": [
    "Exercise 2\r\n",
    "In the course you learned how to do classificaiton using Fashion MNIST, a data set containing items of clothing. There's another, similar dataset called MNIST which has items of handwriting -- the digits 0 through 9.\r\n",
    "\r\n",
    "Write an MNIST classifier that trains to 99% accuracy or above, and does it without a fixed number of epochs -- i.e. you should stop training once you reach that level of accuracy.\r\n",
    "\r\n",
    "Some notes:\r\n",
    "\r\n",
    "It should succeed in less than 10 epochs, so it is okay to change epochs= to 10, but nothing larger\r\n",
    "When it reaches 99% or greater it should print out the string \"Reached 99% accuracy so cancelling training!\"\r\n",
    "If you add any additional variables, make sure you use the same names as the ones used in the class"
   ],
   "metadata": {}
  },
  {
   "cell_type": "code",
   "execution_count": 1,
   "source": [
    "import tensorflow as tf\r\n",
    "from os import path, getcwd, chdir\r\n",
    "\r\n",
    "# DO NOT CHANGE THE LINE BELOW. If you are developing in a local\r\n",
    "# environment, then grab mnist.npz from the Coursera Jupyter Notebook\r\n",
    "# and place it inside a local folder and edit the path to that location\r\n",
    "path = f\"{getcwd()}/../tmp2/mnist.npz\""
   ],
   "outputs": [],
   "metadata": {}
  },
  {
   "cell_type": "code",
   "execution_count": 4,
   "source": [
    " #GRADED FUNCTION: train_mnist\r\n",
    "def train_mnist():\r\n",
    "    # Please write your code only where you are indicated.\r\n",
    "    # please do not remove # model fitting inline comments.\r\n",
    "\r\n",
    "    # YOUR CODE SHOULD START HERE\r\n",
    "    class Callback(tf.keras.callbacks.Callback):\r\n",
    "        def on_epoch_end(self, epoch, logs={}):\r\n",
    "            if(logs.get('accuracy')>0.99):\r\n",
    "                print(\"\\nReached 99% accuracy so cancelling training!\")\r\n",
    "                self.model.stop_training = True\r\n",
    "    # YOUR CODE SHOULD END HERE\r\n",
    "\r\n",
    "    mnist = tf.keras.datasets.mnist\r\n",
    "\r\n",
    "    (x_train, y_train), (x_test, y_test) = mnist.load_data()\r\n",
    "    # YOUR CODE SHOULD START HERE\r\n",
    "    x_train, x_test = x_train / 255.0, x_test / 255.0\r\n",
    "    callbacks = Callback()\r\n",
    "    # YOUR CODE SHOULD END HERE\r\n",
    "    model = tf.keras.models.Sequential([\r\n",
    "        # YOUR CODE SHOULD START HERE\r\n",
    "        tf.keras.layers.Flatten(input_shape=(28, 28)),\r\n",
    "        tf.keras.layers.Dense(512, activation=tf.nn.relu),\r\n",
    "        tf.keras.layers.Dense(10, activation=tf.nn.softmax)\r\n",
    "        # YOUR CODE SHOULD END HERE\r\n",
    "    ])\r\n",
    "\r\n",
    "    model.compile(optimizer='adam',\r\n",
    "                  loss='sparse_categorical_crossentropy',\r\n",
    "                  metrics=['accuracy'])\r\n",
    "    \r\n",
    "    # model fitting\r\n",
    "    history = model.fit(x_train, y_train, epochs=10, callbacks=[callbacks])\r\n",
    "    \r\n",
    "    # model fitting\r\n",
    "    return history.epoch, history.history['accuracy'][-1]"
   ],
   "outputs": [],
   "metadata": {}
  },
  {
   "cell_type": "code",
   "execution_count": 5,
   "source": [
    "train_mnist()"
   ],
   "outputs": [
    {
     "output_type": "stream",
     "name": "stdout",
     "text": [
      "Epoch 1/10\n",
      "1875/1875 [==============================] - 7s 3ms/step - loss: 0.2008 - accuracy: 0.9406\n",
      "Epoch 2/10\n",
      "1875/1875 [==============================] - 6s 3ms/step - loss: 0.0800 - accuracy: 0.9750\n",
      "Epoch 3/10\n",
      "1875/1875 [==============================] - 6s 3ms/step - loss: 0.0520 - accuracy: 0.9842\n",
      "Epoch 4/10\n",
      "1875/1875 [==============================] - 5s 3ms/step - loss: 0.0370 - accuracy: 0.9881\n",
      "Epoch 5/10\n",
      "1875/1875 [==============================] - 5s 3ms/step - loss: 0.0269 - accuracy: 0.9912\n",
      "\n",
      "Reached 99% accuracy so cancelling training!\n"
     ]
    },
    {
     "output_type": "execute_result",
     "data": {
      "text/plain": [
       "([0, 1, 2, 3, 4], 0.9912499785423279)"
      ]
     },
     "metadata": {},
     "execution_count": 5
    }
   ],
   "metadata": {}
  },
  {
   "cell_type": "code",
   "execution_count": null,
   "source": [],
   "outputs": [],
   "metadata": {}
  }
 ],
 "metadata": {
  "orig_nbformat": 4,
  "language_info": {
   "name": "python",
   "version": "3.9.6",
   "mimetype": "text/x-python",
   "codemirror_mode": {
    "name": "ipython",
    "version": 3
   },
   "pygments_lexer": "ipython3",
   "nbconvert_exporter": "python",
   "file_extension": ".py"
  },
  "kernelspec": {
   "name": "python3",
   "display_name": "Python 3.9.6 64-bit"
  },
  "interpreter": {
   "hash": "31e81b3cdbcba4c9e71b17fae73d63fcddb06c6e6bdc0d7f53ebd1ace8b8c2c6"
  }
 },
 "nbformat": 4,
 "nbformat_minor": 2
}